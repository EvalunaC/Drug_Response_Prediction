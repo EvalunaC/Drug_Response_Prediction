{
 "cells": [
  {
   "cell_type": "code",
   "execution_count": 1,
   "id": "73cb5c05",
   "metadata": {},
   "outputs": [
    {
     "name": "stderr",
     "output_type": "stream",
     "text": [
      "2022-01-13 03:42:27.855363: W tensorflow/stream_executor/platform/default/dso_loader.cc:64] Could not load dynamic library 'libcudart.so.11.0'; dlerror: libcudart.so.11.0: cannot open shared object file: No such file or directory\n",
      "2022-01-13 03:42:27.855464: I tensorflow/stream_executor/cuda/cudart_stub.cc:29] Ignore above cudart dlerror if you do not have a GPU set up on your machine.\n"
     ]
    }
   ],
   "source": [
    "import pyreadr\n",
    "import numpy as np\n",
    "import tensorflow as tf"
   ]
  },
  {
   "cell_type": "code",
   "execution_count": 2,
   "id": "f4cf432f",
   "metadata": {},
   "outputs": [],
   "source": [
    "from sklearn.metrics import r2_score\n",
    "from sklearn.model_selection import train_test_split\n",
    "from keras.models import Sequential\n",
    "from keras.layers import Dense\n",
    "from keras.layers import LSTM\n",
    "from keras.layers import Dropout\n",
    "from tensorflow.keras.optimizers import Adam"
   ]
  },
  {
   "cell_type": "code",
   "execution_count": 3,
   "id": "3acda060",
   "metadata": {},
   "outputs": [],
   "source": [
    "from tensorflow.keras.optimizers import schedules\n",
    "from tensorflow.keras.optimizers import SGD"
   ]
  },
  {
   "cell_type": "code",
   "execution_count": 4,
   "id": "1d7c8a67",
   "metadata": {
    "scrolled": true
   },
   "outputs": [
    {
     "name": "stdout",
     "output_type": "stream",
     "text": [
      "2.7.0\n",
      "1.21.4\n",
      "3.8.10\n"
     ]
    }
   ],
   "source": [
    "print(tf.__version__)\n",
    "print(np.__version__)\n",
    "import platform\n",
    "print(platform.python_version())"
   ]
  },
  {
   "cell_type": "code",
   "execution_count": 7,
   "id": "84de63df",
   "metadata": {},
   "outputs": [
    {
     "data": {
      "text/plain": [
       "(1104, 13225)"
      ]
     },
     "execution_count": 7,
     "metadata": {},
     "output_type": "execute_result"
    }
   ],
   "source": [
    "train_file = \"/home/Qiang/DrugResponse/GDSC2/GDSC2_Frame_BRCA/RData/Lapatinib_trainFrame.RData\"\n",
    "trainFrame =pyreadr.read_r(train_file)['trainFrame']\n",
    "trainFrame.shape\n",
    "\n",
    "test_file = \"/home/Qiang/DrugResponse/GDSC2/GDSC2_Frame_BRCA/RData/Lapatinib_testFrame.RData\"\n",
    "testFrame =pyreadr.read_r(test_file)['testFrame']\n",
    "testFrame.shape"
   ]
  },
  {
   "cell_type": "code",
   "execution_count": 9,
   "id": "d169385c",
   "metadata": {},
   "outputs": [],
   "source": [
    "X_train = trainFrame.iloc[:,1:].values\n",
    "X_test = testFrame.values\n",
    "y = trainFrame.iloc[:,0].values"
   ]
  },
  {
   "cell_type": "code",
   "execution_count": 14,
   "id": "6a6061e9",
   "metadata": {},
   "outputs": [
    {
     "name": "stderr",
     "output_type": "stream",
     "text": [
      "2022-01-13 04:07:38.342150: W tensorflow/stream_executor/platform/default/dso_loader.cc:64] Could not load dynamic library 'libcuda.so.1'; dlerror: libcuda.so.1: cannot open shared object file: No such file or directory\n",
      "2022-01-13 04:07:38.342300: W tensorflow/stream_executor/cuda/cuda_driver.cc:269] failed call to cuInit: UNKNOWN ERROR (303)\n",
      "2022-01-13 04:07:38.342360: I tensorflow/stream_executor/cuda/cuda_diagnostics.cc:156] kernel driver does not appear to be running on this host (qiangli01): /proc/driver/nvidia/version does not exist\n",
      "2022-01-13 04:07:38.343478: I tensorflow/core/platform/cpu_feature_guard.cc:151] This TensorFlow binary is optimized with oneAPI Deep Neural Network Library (oneDNN) to use the following CPU instructions in performance-critical operations:  AVX2 AVX512F FMA\n",
      "To enable them in other operations, rebuild TensorFlow with the appropriate compiler flags.\n"
     ]
    },
    {
     "name": "stdout",
     "output_type": "stream",
     "text": [
      "Epoch 1/50\n",
      "33/33 [==============================] - 4s 6ms/step - loss: 3.8362\n",
      "Epoch 2/50\n",
      "33/33 [==============================] - 0s 4ms/step - loss: 1.7884\n",
      "Epoch 3/50\n",
      "33/33 [==============================] - 0s 4ms/step - loss: 1.7339\n",
      "Epoch 4/50\n",
      "33/33 [==============================] - 0s 4ms/step - loss: 1.5414\n",
      "Epoch 5/50\n",
      "33/33 [==============================] - 0s 4ms/step - loss: 1.6979\n",
      "Epoch 6/50\n",
      "33/33 [==============================] - 0s 4ms/step - loss: 1.5156\n",
      "Epoch 7/50\n",
      "33/33 [==============================] - 0s 4ms/step - loss: 1.5710\n",
      "Epoch 8/50\n",
      "33/33 [==============================] - 0s 4ms/step - loss: 1.5164\n",
      "Epoch 9/50\n",
      "33/33 [==============================] - 0s 4ms/step - loss: 1.4505\n",
      "Epoch 10/50\n",
      "33/33 [==============================] - 0s 4ms/step - loss: 1.3574\n",
      "Epoch 11/50\n",
      "33/33 [==============================] - 0s 4ms/step - loss: 1.3457\n",
      "Epoch 12/50\n",
      "33/33 [==============================] - 0s 4ms/step - loss: 1.2933\n",
      "Epoch 13/50\n",
      "33/33 [==============================] - 0s 5ms/step - loss: 1.3182\n",
      "Epoch 14/50\n",
      "33/33 [==============================] - 0s 5ms/step - loss: 1.3432\n",
      "Epoch 15/50\n",
      "33/33 [==============================] - 0s 5ms/step - loss: 1.6868\n",
      "Epoch 16/50\n",
      "33/33 [==============================] - 0s 4ms/step - loss: 1.4533\n",
      "Epoch 17/50\n",
      "33/33 [==============================] - 0s 4ms/step - loss: 1.3190\n",
      "Epoch 18/50\n",
      "33/33 [==============================] - 0s 4ms/step - loss: 1.1693\n",
      "Epoch 19/50\n",
      "33/33 [==============================] - 0s 4ms/step - loss: 1.3075\n",
      "Epoch 20/50\n",
      "33/33 [==============================] - 0s 4ms/step - loss: 1.3298\n",
      "Epoch 21/50\n",
      "33/33 [==============================] - 0s 4ms/step - loss: 1.2091\n",
      "Epoch 22/50\n",
      "33/33 [==============================] - 0s 5ms/step - loss: 1.3510\n",
      "Epoch 23/50\n",
      "33/33 [==============================] - 0s 5ms/step - loss: 1.1791\n",
      "Epoch 24/50\n",
      "33/33 [==============================] - 0s 5ms/step - loss: 1.4381\n",
      "Epoch 25/50\n",
      "33/33 [==============================] - 0s 4ms/step - loss: 1.4010\n",
      "Epoch 26/50\n",
      "33/33 [==============================] - 0s 4ms/step - loss: 1.1273\n",
      "Epoch 27/50\n",
      "33/33 [==============================] - 0s 4ms/step - loss: 1.1014\n",
      "Epoch 28/50\n",
      "33/33 [==============================] - 0s 4ms/step - loss: 1.2773\n",
      "Epoch 29/50\n",
      "33/33 [==============================] - 0s 5ms/step - loss: 1.1957\n",
      "Epoch 30/50\n",
      "33/33 [==============================] - 0s 4ms/step - loss: 1.1853\n",
      "Epoch 31/50\n",
      "33/33 [==============================] - 0s 4ms/step - loss: 1.1768\n",
      "Epoch 32/50\n",
      "33/33 [==============================] - 0s 4ms/step - loss: 1.1353\n",
      "Epoch 33/50\n",
      "33/33 [==============================] - 0s 4ms/step - loss: 1.1257\n",
      "Epoch 34/50\n",
      "33/33 [==============================] - 0s 4ms/step - loss: 1.0945\n",
      "Epoch 35/50\n",
      "33/33 [==============================] - 0s 3ms/step - loss: 1.3101\n",
      "Epoch 36/50\n",
      "33/33 [==============================] - 0s 4ms/step - loss: 0.9957\n",
      "Epoch 37/50\n",
      "33/33 [==============================] - 0s 3ms/step - loss: 1.2334\n",
      "Epoch 38/50\n",
      "33/33 [==============================] - 0s 4ms/step - loss: 1.1140\n",
      "Epoch 39/50\n",
      "33/33 [==============================] - 0s 4ms/step - loss: 1.0905\n",
      "Epoch 40/50\n",
      "33/33 [==============================] - 0s 4ms/step - loss: 1.1197\n",
      "Epoch 41/50\n",
      "33/33 [==============================] - 0s 4ms/step - loss: 1.0142\n",
      "Epoch 42/50\n",
      "33/33 [==============================] - 0s 4ms/step - loss: 1.1254\n",
      "Epoch 43/50\n",
      "33/33 [==============================] - 0s 4ms/step - loss: 1.0528\n",
      "Epoch 44/50\n",
      "33/33 [==============================] - 0s 4ms/step - loss: 1.0405\n",
      "Epoch 45/50\n",
      "33/33 [==============================] - 0s 4ms/step - loss: 1.0776\n",
      "Epoch 46/50\n",
      "33/33 [==============================] - 0s 4ms/step - loss: 0.9553\n",
      "Epoch 47/50\n",
      "33/33 [==============================] - 0s 4ms/step - loss: 1.0808\n",
      "Epoch 48/50\n",
      "33/33 [==============================] - 0s 5ms/step - loss: 1.0311\n",
      "Epoch 49/50\n",
      "33/33 [==============================] - 0s 5ms/step - loss: 1.0752\n",
      "Epoch 50/50\n",
      "33/33 [==============================] - 0s 4ms/step - loss: 0.8758\n"
     ]
    }
   ],
   "source": [
    "#Variables\n",
    "layerOneNumNodes = 128\n",
    "layerTwoNumNodes = 128\n",
    "layerThreeNumNodes = 128\n",
    "\n",
    "activation = 'sigmoid'\n",
    "\n",
    "learningRate = 0.01\n",
    "learningRateDecay = 1\n",
    "\n",
    "regressor = Sequential()\n",
    "regressor.add(Dense(units = layerOneNumNodes, input_shape = (X_train.shape[1],), activation = activation))\n",
    "regressor.add(Dropout(0.4))\n",
    "\n",
    "regressor.add(Dense(units = layerTwoNumNodes, activation = activation))\n",
    "regressor.add(Dropout(0.4))\n",
    "\n",
    "regressor.add(Dense(units = layerThreeNumNodes, activation = activation))\n",
    "regressor.add(Dropout(0.4))\n",
    "regressor.add(Dense(units = 1,  activation = 'linear'))\n",
    "\n",
    "lr_schedule = schedules.ExponentialDecay(\n",
    "    initial_learning_rate=learningRate,\n",
    "    decay_steps=10000,\n",
    "    decay_rate=learningRateDecay)\n",
    "sgd = tf.keras.optimizers.SGD(\n",
    "    learning_rate=learningRate, momentum=0.0, nesterov=False, name=\"SGD\"\n",
    "    )\n",
    "\n",
    "opt = Adam(learning_rate=lr_schedule)\n",
    "\n",
    "\n",
    "regressor.compile(optimizer = opt, loss = 'mse')\n",
    "\n",
    "history = regressor.fit(X_train, y, epochs = 50, batch_size = 16, shuffle=True)\n",
    "\n",
    "#save photo\n",
    "predictions = regressor.predict(X_test)\n",
    "predictions=np.reshape(predictions, (predictions.shape[0],))\n",
    "   \n",
    "\n",
    "\n"
   ]
  },
  {
   "cell_type": "code",
   "execution_count": 18,
   "id": "34e63f6a",
   "metadata": {},
   "outputs": [
    {
     "name": "stdout",
     "output_type": "stream",
     "text": [
      "[4.9777555 3.7703145 4.51259   ... 5.5702386 4.2685623 3.704721 ]\n"
     ]
    }
   ],
   "source": [
    "print(predictions)"
   ]
  },
  {
   "cell_type": "code",
   "execution_count": 19,
   "id": "1e1fb062",
   "metadata": {},
   "outputs": [],
   "source": [
    "file = \"/home/Qiang/DrugResponse/GDSC2/Output/mid_evaluation/PCC/Yiqing/Lapatinib_DLpredict.csv\"\n",
    "np.savetxt(file, predictions, fmt=\"%s\", delimiter=',')"
   ]
  },
  {
   "cell_type": "code",
   "execution_count": null,
   "id": "10182a3e",
   "metadata": {},
   "outputs": [],
   "source": []
  }
 ],
 "metadata": {
  "kernelspec": {
   "display_name": "Python 3 (ipykernel)",
   "language": "python",
   "name": "python3"
  },
  "language_info": {
   "codemirror_mode": {
    "name": "ipython",
    "version": 3
   },
   "file_extension": ".py",
   "mimetype": "text/x-python",
   "name": "python",
   "nbconvert_exporter": "python",
   "pygments_lexer": "ipython3",
   "version": "3.8.10"
  }
 },
 "nbformat": 4,
 "nbformat_minor": 5
}
